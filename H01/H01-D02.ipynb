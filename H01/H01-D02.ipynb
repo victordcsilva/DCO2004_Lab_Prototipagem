{
 "cells": [
  {
   "cell_type": "markdown",
   "metadata": {},
   "source": [
    "# Hands-on H01 D02"
   ]
  },
  {
   "cell_type": "code",
   "execution_count": 1,
   "metadata": {},
   "outputs": [
    {
     "name": "stdout",
     "output_type": "stream",
     "text": [
      "O valor máximo de s é 1\n",
      "O valor máximo de z é 2\n"
     ]
    }
   ],
   "source": [
    "clear all;\n",
    "t = 1:10;\n",
    "f = 10;\n",
    "s = cos(2*pi*f*t);\n",
    "z = s + cos(2*pi*0.5*f*t);\n",
    "chDisplays = ['O valor máximo de s é ' num2str(max(s))];\n",
    "disp(chDisplays);\n",
    "chDisplayz = ['O valor máximo de z é ' num2str(max(z))];\n",
    "disp(chDisplayz);"
   ]
  },
  {
   "cell_type": "markdown",
   "metadata": {},
   "source": [
    "![variaveis](http://i.imgur.com/UxryI7P.jpg)"
   ]
  },
  {
   "cell_type": "markdown",
   "metadata": {},
   "source": [
    "**chDisplays** e **chDisplayz** são do tipo string,\n",
    "**f** é do tipo inteiro,\n",
    "**s, t, z** são do tipo vetor."
   ]
  },
  {
   "cell_type": "code",
   "execution_count": null,
   "metadata": {
    "collapsed": true
   },
   "outputs": [],
   "source": []
  }
 ],
 "metadata": {
  "kernelspec": {
   "display_name": "Matlab",
   "language": "matlab",
   "name": "matlab"
  },
  "language_info": {
   "codemirror_mode": "octave",
   "file_extension": ".m",
   "help_links": [
    {
     "text": "MetaKernel Magics",
     "url": "https://github.com/calysto/metakernel/blob/master/metakernel/magics/README.md"
    }
   ],
   "mimetype": "text/x-matlab",
   "name": "matlab",
   "version": "0.14.3"
  }
 },
 "nbformat": 4,
 "nbformat_minor": 2
}
