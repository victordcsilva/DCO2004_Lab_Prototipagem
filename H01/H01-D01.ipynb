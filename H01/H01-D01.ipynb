{
 "cells": [
  {
   "cell_type": "markdown",
   "metadata": {},
   "source": [
    "# Hands-on 01 - D01"
   ]
  },
  {
   "cell_type": "markdown",
   "metadata": {},
   "source": [
    "## Escalar"
   ]
  },
  {
   "cell_type": "markdown",
   "metadata": {},
   "source": [
    "No matlab, um escalar é um variável com apenas uma linha e uma coluna. É uma variavel simples, usada para manipular equações algebricas simples."
   ]
  },
  {
   "cell_type": "code",
   "execution_count": 1,
   "metadata": {},
   "outputs": [
    {
     "name": "stdout",
     "output_type": "stream",
     "text": [
      "\n",
      "z =\n",
      "\n",
      "     3\n",
      "\n"
     ]
    }
   ],
   "source": [
    "x=1;\n",
    "y=2;\n",
    "z=x+y"
   ]
  },
  {
   "cell_type": "markdown",
   "metadata": {},
   "source": [
    "## Vetor"
   ]
  },
  {
   "cell_type": "markdown",
   "metadata": {},
   "source": [
    "Vetor já é uma variável com mais de uma linha ou mais de uma coluna. Um vetor tem vários propositos, um deles é plotar gráfico x por y. "
   ]
  },
  {
   "cell_type": "code",
   "execution_count": 2,
   "metadata": {},
   "outputs": [
    {
     "name": "stdout",
     "output_type": "stream",
     "text": [
      "\n",
      "y =\n",
      "\n",
      "     1     2     3     4     5\n",
      "\n",
      "\n",
      "x =\n",
      "\n",
      "     1     1     1     1     1\n",
      "\n"
     ]
    }
   ],
   "source": [
    "y=1:5\n",
    "x=ones(1,5)"
   ]
  },
  {
   "cell_type": "markdown",
   "metadata": {},
   "source": [
    "## Matriz"
   ]
  },
  {
   "cell_type": "markdown",
   "metadata": {},
   "source": [
    "Matriz é uma variável com mais de uma linha e mais de uma coluna. Uma matriz tem função de processar vários elementos, retornando também vários elementos. "
   ]
  },
  {
   "cell_type": "code",
   "execution_count": 4,
   "metadata": {},
   "outputs": [
    {
     "name": "stdout",
     "output_type": "stream",
     "text": [
      "\n",
      "A =\n",
      "\n",
      "     1     2\n",
      "     3     4\n",
      "\n",
      "\n",
      "B =\n",
      "\n",
      "     1     0     0\n",
      "     0     1     0\n",
      "     0     0     1\n",
      "\n"
     ]
    }
   ],
   "source": [
    "A = [1 2; 3 4]\n",
    "B = eye(3,3)"
   ]
  },
  {
   "cell_type": "markdown",
   "metadata": {},
   "source": [
    "## String"
   ]
  },
  {
   "cell_type": "markdown",
   "metadata": {},
   "source": [
    "São variáveis usadas para rotular saídas, são matrizes cujos elementos são caractéres. "
   ]
  },
  {
   "cell_type": "code",
   "execution_count": 7,
   "metadata": {},
   "outputs": [
    {
     "name": "stdout",
     "output_type": "stream",
     "text": [
      "\n",
      "nome =\n",
      "\n",
      "Victor\n",
      "\n",
      "\n",
      "frutas =\n",
      "\n",
      "laranjagoiababananaabacaxi\n",
      "\n"
     ]
    }
   ],
   "source": [
    "nome = 'Victor'\n",
    "frutas = ['laranja', 'goiaba', 'banana', 'abacaxi']"
   ]
  }
 ],
 "metadata": {
  "kernelspec": {
   "display_name": "Matlab",
   "language": "matlab",
   "name": "matlab"
  },
  "language_info": {
   "codemirror_mode": "octave",
   "file_extension": ".m",
   "help_links": [
    {
     "text": "MetaKernel Magics",
     "url": "https://github.com/calysto/metakernel/blob/master/metakernel/magics/README.md"
    }
   ],
   "mimetype": "text/x-matlab",
   "name": "matlab",
   "version": "0.14.3"
  }
 },
 "nbformat": 4,
 "nbformat_minor": 2
}
