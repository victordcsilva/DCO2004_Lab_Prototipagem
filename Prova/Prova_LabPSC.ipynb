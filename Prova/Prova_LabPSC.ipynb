{
 "cells": [
  {
   "cell_type": "code",
   "execution_count": 4,
   "metadata": {},
   "outputs": [
    {
     "name": "stdout",
     "output_type": "stream",
     "text": [
      "\n",
      "pNe =\n",
      "\n",
      "    0.3175\n",
      "\n"
     ]
    }
   ],
   "source": [
    "%Q1\n",
    "\n",
    "clear all\n",
    "close all\n",
    "% Parâmetros\n",
    "EbN0_dB = 5;  \n",
    "Ns = 10^5;                                             % Número de símbolos simulados\n",
    "% Sinal M-PSK gerado pela função pskmod\n",
    "M = [8]; \n",
    "bits2 = randi([0 M-1],Ns,1);% Eb/N0 de entrada    \n",
    "txSig = pskmod(bits2,M); %Sinal transmitido\n",
    "rxSig = awgn(txSig,EbN0_dB); %Sinal recebido\n",
    "N=length(rxSig);  \n",
    "n=rxSig-txSig; %Calculo do ruido\n",
    "pNe=sum(abs(n.^2))/N %potencia estimada do ruido\n",
    "\n",
    "\n"
   ]
  },
  {
   "cell_type": "code",
   "execution_count": 3,
   "metadata": {},
   "outputs": [
    {
     "name": "stdout",
     "output_type": "stream",
     "text": [
      "\n",
      "vtTeoErrorAnti =\n",
      "\n",
      "   9.1240e-16\n",
      "\n"
     ]
    }
   ],
   "source": [
    "%Q5\n",
    "%Pe=Q(sqrt(d**2)/(2N0))\n",
    "\n",
    "clear all;close all;clc;\n",
    "%% parâmetros\n",
    "vtEbN0Sim_db = 15;\n",
    "nMCSamples = 1e6;\n",
    "vtEbN0Teo_dB = 15;\n",
    "vtEbN0Teo = 10.^(vtEbN0Teo_dB/10);\n",
    "%\n",
    "%% Gera a BER simulada\n",
    "    vtSimErrorAnti= simAntipodal(vtEbN0Sim_db, nMCSamples);\n",
    "\n",
    "%\n",
    "%% Calcula a Pe teórica\n",
    "vtTeoErrorAnti = qfunc(sqrt(2*vtEbN0Teo))\n"
   ]
  },
  {
   "cell_type": "code",
   "execution_count": 3,
   "metadata": {},
   "outputs": [
    {
     "name": "stdout",
     "output_type": "stream",
     "text": [
      "exp(-4)\n"
     ]
    }
   ],
   "source": [
    "#Q3\n",
    "\n",
    "\n",
    "import numpy as np\n",
    "from scipy import stats\n",
    "import matplotlib.pyplot as plt \n",
    "from sympy import *\n",
    "#Matematicamente\n",
    "x, f = symbols('x f')\n",
    "\n",
    "f2=1*(exp(-(1*x)))\n",
    "Po2=1-integrate(f2,(x,0,4))\n",
    "print(Po2)"
   ]
  },
  {
   "cell_type": "code",
   "execution_count": 6,
   "metadata": {},
   "outputs": [
    {
     "name": "stdout",
     "output_type": "stream",
     "text": [
      "Erro medio quadratico para tau = 5e-05 é: 0.283293688223\n"
     ]
    }
   ],
   "source": [
    "#Q2\n",
    "\n",
    "import numpy as np\n",
    "from matplotlib import pyplot as plt\n",
    "from scipy import fftpack\n",
    "\n",
    "Ts=1e-6                                                         # Definição do período\n",
    "t = np.arange(1000)*Ts                                          # Definição do vetor tempo\n",
    "fc = 10000                                                      # Frequência da portadora.\n",
    "fm = 1500                                                       # Frequência do sinal\n",
    "Mu = 0.6                                                        # Índice de modulaçao.\n",
    "Ac = 1.0\n",
    "x_AMo = Ac*(1.0+Mu*np.cos(2*np.pi*fm*t))*np.cos(2*np.pi*fc*t);  # Onda Modulada AM-DSB\n",
    "\n",
    "x_envIdeal = np.abs(Ac*(1.0+Mu*np.cos(2*np.pi*fm*t)))           # Envoltória ideal\n",
    "\n",
    "# Detector de envoltória\n",
    "x_AM = x_AMo*(x_AMo>0)                                          # Efeito do diodo (semiciclo positivo)\n",
    "x_env = np.zeros(len(x_AM))\n",
    "Ns = len(x_AM)\n",
    "out = -1\n",
    "#Tau = 10^-4\n",
    "tau = 0.5e-4  # Constante de tempo do detector de envelop\n",
    "erro=0*x_env\n",
    "for i in range(Ns):\n",
    "    inp = x_AM[i]\n",
    "    if inp>=out:\n",
    "        out = inp            # Caso 1: x_am(t) > Vc(t) (carga do capacitor)\n",
    "    else:\n",
    "        out *= (1-Ts/tau)    # Caso 2: x_am(t) < Vc(t) (descarga do capacitor)\n",
    "    x_env[i] = out\n",
    "    erro[i]=((x_env[i]-x_envIdeal[i])**2)/len(x_envIdeal)\n",
    "    \n",
    "emq=sum(erro)\n",
    "print(\"Erro medio quadratico para tau =\",tau,\"é:\",emq)"
   ]
  },
  {
   "cell_type": "code",
   "execution_count": null,
   "metadata": {
    "collapsed": true
   },
   "outputs": [],
   "source": []
  }
 ],
 "metadata": {
  "kernelspec": {
   "display_name": "Matlab",
   "language": "matlab",
   "name": "matlab"
  },
  "language_info": {
   "codemirror_mode": "octave",
   "file_extension": ".m",
   "help_links": [
    {
     "text": "MetaKernel Magics",
     "url": "https://github.com/calysto/metakernel/blob/master/metakernel/magics/README.md"
    }
   ],
   "mimetype": "text/x-matlab",
   "name": "matlab",
   "version": "0.14.3"
  }
 },
 "nbformat": 4,
 "nbformat_minor": 2
}
